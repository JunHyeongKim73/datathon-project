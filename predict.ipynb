{
 "cells": [
  {
   "cell_type": "code",
   "execution_count": 22,
   "id": "e105143e-cb06-4b72-b725-b52b6f0c35b2",
   "metadata": {},
   "outputs": [],
   "source": [
    "import os, os.path\n",
    "import numpy as np\n",
    "import cv2\n",
    "\n",
    "from PIL import Image\n",
    "import matplotlib.pyplot as plt\n",
    "import torch\n",
    "import torch.nn as nn\n",
    "import albumentations as A\n",
    "from albumentations.pytorch import ToTensorV2\n",
    "\n",
    "from torch.utils.data import DataLoader\n",
    "\n",
    "from efficientnet_pytorch import EfficientNet\n",
    "from tqdm.auto import tqdm\n",
    "\n",
    "import ttach as tta\n",
    "\n",
    "import time"
   ]
  },
  {
   "cell_type": "code",
   "execution_count": 23,
   "id": "136f07e6-e1fc-422e-8876-8b92880c9f14",
   "metadata": {},
   "outputs": [],
   "source": [
    "test_data_path = '../test_dataset'"
   ]
  },
  {
   "cell_type": "code",
   "execution_count": 24,
   "id": "a9dcc6f8-1d9f-49f2-b782-73af65c1e0c4",
   "metadata": {},
   "outputs": [],
   "source": [
    "class EffNetModel(nn.Module):\n",
    "    def __init__(self, model_name):\n",
    "        super(EffNetModel, self).__init__()\n",
    "\n",
    "        self.backbone = EfficientNet.from_pretrained(model_name, num_classes=150)\n",
    "        \n",
    "    def forward(self, x):\n",
    "        x = self.backbone(x)\n",
    "        \n",
    "        return x"
   ]
  },
  {
   "cell_type": "code",
   "execution_count": 25,
   "id": "6c3dacf4-d8aa-48a3-acff-1602e423648f",
   "metadata": {},
   "outputs": [],
   "source": [
    "test_transforms = A.Compose([\n",
    "        A.Resize(256, 256),\n",
    "        A.CenterCrop(224, 224),\n",
    "        A.Normalize(mean=(0.485, 0.456, 0.406), std=(0.229, 0.224, 0.225)),\n",
    "        ToTensorV2()\n",
    "    ])\n",
    "\n",
    "# Test Time Augmentation을 위한 transform 목록\n",
    "# 3개의 transform이 있으므로 \n",
    "# 하나의 이미지 데이터당 8개의 이미지가 생성됨\n",
    "tta_transforms = tta.Compose([\n",
    "    tta.Rotate90(angles=[0, 90]),\n",
    "    tta.HorizontalFlip(),\n",
    "    tta.Multiply(factors=[0.7, 1]),\n",
    "])"
   ]
  },
  {
   "cell_type": "code",
   "execution_count": 26,
   "id": "9ed59692-3940-473a-970f-e5f574ab6a8e",
   "metadata": {},
   "outputs": [],
   "source": [
    "num_to_class = ['갈비구이', '갈치구이', '고등어구이', '곱창구이', '닭갈비', '더덕구이', '떡갈비', '불고기', '삼겹살', '장어구이', '조개구이', '조기구이', '황태구이', '훈제오리', '계란국', '떡국_만두국', '무국', '미역국', '북엇국', '시래기국', '육개장', '콩나물국', '과메기', '양념치킨', '젓갈', '콩자반', '편육', '피자', '후라이드치킨', '갓김치', '깍두기', '나박김치', '무생채', '배추김치', '백김치', '부추김치', '열무김치', '오이소박이', '총각김치', '파김치', '가지볶음', '고사리나물', '미역줄기볶음', '숙주나물', '시금치나물', '애호박볶음', '경단', '꿀떡', '송편', '만두', '라면', '막국수', '물냉면', '비빔냉면', '수제비', '열무국수', '잔치국수', '짜장면', '짬뽕', '쫄면', '칼국수', '콩국수', '꽈리고추무침', '도라지무침', '도토리묵', '잡채', '콩나물무침', '홍어무침', '회무침', '김밥', '김치볶음밥', '누룽지', '비빔밥', '새우볶음밥', '알밥', '유부초밥', '잡곡밥', '주먹밥', '감자채볶음', '건새우볶음', '고추장진미채볶음', '두부김치', '떡볶이', '라볶이', '멸치볶음', '소세지볶음', '어묵볶음', '오징어채볶음', '제육볶음', '주꾸미볶음', '보쌈', '수정과', '식혜', '간장게장', '양념게장', '깻잎장아찌', '떡꼬치', '감자전', '계란말이', '계란후라이', '김치전', '동그랑땡', '생선전', '파전', '호박전', '곱창전골', '갈치조림', '감자조림', '고등어조림', '꽁치조림', '두부조림', '땅콩조림', '메추리알장조림', '연근조림', '우엉조림', '장조림', '코다리조림', '전복죽', '호박죽', '김치찌개', '닭계장', '동태찌개', '된장찌개', '순두부찌개', '갈비찜', '계란찜', '김치찜', '꼬막찜', '닭볶음탕', '수육', '순대', '족발', '찜닭', '해물찜', '갈비탕', '감자탕', '곰탕_설렁탕', '매운탕', '삼계탕', '추어탕', '고추튀김', '새우튀김', '오징어튀김', '약과', '약식', '한과', '멍게', '산낙지', '물회', '육회']\n",
    "\n",
    "def predict():\n",
    "    valid_images = [\".jpg\",\".png\"]\n",
    "\n",
    "    result = {}\n",
    "    \n",
    "    modelA_name = 'efficientnet-b1'\n",
    "    modelB_name = 'efficientnet-b0'\n",
    "    \n",
    "    device = torch.device(\"cuda:0\" if torch.cuda.is_available() else \"cpu\")\n",
    "    \n",
    "    # 모델을 선언하고\n",
    "    modelA = EffNetModel(modelA_name)\n",
    "    modelB = EffNetModel(modelB_name)\n",
    "    # 저장된 가중치들을 로드한다\n",
    "    modelA.load_state_dict(torch.load('../models/1_efficientnet-b1_0.8407_0.7333_epoch_25.pth'))\n",
    "    modelB.load_state_dict(torch.load('../models/1_efficientnet-b0_0.8429_0.6997_epoch_21.pth'))\n",
    "    \n",
    "    modelA.to(device)\n",
    "    modelB.to(device)\n",
    "    \n",
    "    modelA.eval()\n",
    "    modelB.eval()\n",
    "    \n",
    "    for f in os.listdir(test_data_path):\n",
    "        \n",
    "        # 확장자를 검사한다\n",
    "        ext = os.path.splitext(f)[1]\n",
    "        if ext.lower() not in valid_images:\n",
    "            continue\n",
    "        \n",
    "        # 8개의 이미지를 예측한 결과를 리스트에 담는다\n",
    "        preds_list = []\n",
    "        \n",
    "        # 확장자를 제외한 파일의 이름을 확인한다\n",
    "        name = os.path.basename(f)\n",
    "        hash_num = name[4:9]\n",
    "        \n",
    "        img_path = os.path.join(test_data_path, f)\n",
    "        \n",
    "        img = cv2.imread(img_path)\n",
    "        img = cv2.cvtColor(img, cv2.COLOR_BGR2RGB)\n",
    "        \n",
    "        augmented = test_transforms(image=img)\n",
    "        # img format : [C, H, W]\n",
    "        img = augmented['image']\n",
    "        # img format : [B, C, H, W]\n",
    "        batch_img = img.unsqueeze(0)\n",
    "        \n",
    "        for transformer in tta_transforms:\n",
    "            # img format : [B, C, H, W]\n",
    "            trans_image = transformer.augment_image(batch_img)\n",
    "            with torch.no_grad():\n",
    "                trans_image = trans_image.to(device)\n",
    "                outputA = modelA(trans_image)\n",
    "                outputB = modelB(trans_image)\n",
    "                outputs = (outputA + outputB) / 2\n",
    "                _, preds = torch.max(outputs, 1)\n",
    "            \n",
    "            preds_list.extend(preds.tolist())\n",
    "        \n",
    "        # 가장 많이 나온 클래스가 예측값으로 결정된다\n",
    "        prediction = max(set(preds_list), key=preds_list.count)\n",
    "            \n",
    "        result[int(hash_num)] = num_to_class[prediction]\n",
    "        \n",
    "    return result"
   ]
  },
  {
   "cell_type": "code",
   "execution_count": 27,
   "id": "ac33e2e0-5458-460c-9fb9-eb7553ec6155",
   "metadata": {},
   "outputs": [],
   "source": [
    "def print_accuracy():\n",
    "    # True label\n",
    "    true_labels = dict()\n",
    "\n",
    "    with open(test_data_path + '/hash_table.txt', 'rt', encoding='cp949') as f:\n",
    "        lines = f.readlines()\n",
    "\n",
    "        for line in lines:\n",
    "            line = line.strip()\n",
    "\n",
    "            hash_num, label = tuple(line.split(', '))\n",
    "            hash_num = int(hash_num)\n",
    "\n",
    "            true_labels[hash_num] = label\n",
    "\n",
    "    # Compare\n",
    "    start = time.time()\n",
    "    predicted_labels = predict()\n",
    "    print(time.time()-start)\n",
    "    try:\n",
    "        cnt = 0\n",
    "\n",
    "        for hash_num in true_labels.keys():\n",
    "            if true_labels[hash_num] == predicted_labels[hash_num]:\n",
    "                cnt = cnt + 1\n",
    "\n",
    "        print(f\"Accuracy: {cnt / len(true_labels)}\")\n",
    "\n",
    "    except Exception as e:\n",
    "        print(\"predict()의 반환 양식이 올바르지 않습니다.\")"
   ]
  },
  {
   "cell_type": "code",
   "execution_count": 28,
   "id": "9c802af2-c4f8-4948-9913-2c7bc369418a",
   "metadata": {},
   "outputs": [
    {
     "name": "stdout",
     "output_type": "stream",
     "text": [
      "Loaded pretrained weights for efficientnet-b1\n",
      "Loaded pretrained weights for efficientnet-b0\n",
      "34.86095380783081\n",
      "Accuracy: 0.9098360655737705\n"
     ]
    }
   ],
   "source": [
    "print_accuracy()"
   ]
  },
  {
   "cell_type": "code",
   "execution_count": null,
   "id": "53b8d731-6304-4f21-9f25-e739a9563431",
   "metadata": {},
   "outputs": [],
   "source": []
  },
  {
   "cell_type": "code",
   "execution_count": null,
   "id": "898ca648-336c-4a5b-b2d1-b0cde174cab0",
   "metadata": {},
   "outputs": [],
   "source": []
  }
 ],
 "metadata": {
  "environment": {
   "kernel": "python3",
   "name": "common-cu110.m84",
   "type": "gcloud",
   "uri": "gcr.io/deeplearning-platform-release/base-cu110:m84"
  },
  "kernelspec": {
   "display_name": "Python 3",
   "language": "python",
   "name": "python3"
  },
  "language_info": {
   "codemirror_mode": {
    "name": "ipython",
    "version": 3
   },
   "file_extension": ".py",
   "mimetype": "text/x-python",
   "name": "python",
   "nbconvert_exporter": "python",
   "pygments_lexer": "ipython3",
   "version": "3.7.12"
  }
 },
 "nbformat": 4,
 "nbformat_minor": 5
}
